{
 "cells": [
  {
   "cell_type": "markdown",
   "id": "9b565f29",
   "metadata": {
    "papermill": {
     "duration": 0.00625,
     "end_time": "2024-03-09T16:36:23.026532",
     "exception": false,
     "start_time": "2024-03-09T16:36:23.020282",
     "status": "completed"
    },
    "tags": []
   },
   "source": [
    "# Lamp Failure Prediction"
   ]
  },
  {
   "cell_type": "code",
   "execution_count": 147,
   "id": "7ca3f12d",
   "metadata": {
    "_cell_guid": "b1076dfc-b9ad-4769-8c92-a6c4dae69d19",
    "_uuid": "8f2839f25d086af736a60e9eeb907d3b93b6e0e5",
    "papermill": {
     "duration": 3.389142,
     "end_time": "2024-03-09T16:36:26.421682",
     "exception": false,
     "start_time": "2024-03-09T16:36:23.032540",
     "status": "completed"
    },
    "tags": []
   },
   "outputs": [],
   "source": [
    "# Importation des bibliothèques principales\n",
    "import numpy as np \n",
    "import pandas as pd \n",
    "import matplotlib.pyplot as plt\n",
    "import seaborn as sns\n",
    "\n",
    "# Outils de machine learning depuis scikit-learn\n",
    "from pandas.api.types import is_datetime64_any_dtype\n",
    "\n",
    "from sklearn.model_selection import train_test_split, cross_val_score\n",
    "from sklearn.ensemble import RandomForestClassifier, RandomForestRegressor, HistGradientBoostingRegressor\n",
    "from sklearn.metrics import accuracy_score, classification_report, confusion_matrix, mean_squared_error, mean_absolute_error\n",
    "from sklearn.linear_model import LogisticRegression\n",
    "from sklearn.preprocessing import StandardScaler\n"
   ]
  },
  {
   "cell_type": "code",
   "execution_count": 148,
   "id": "c0be7157",
   "metadata": {
    "papermill": {
     "duration": 0.180439,
     "end_time": "2024-03-09T16:36:26.607944",
     "exception": false,
     "start_time": "2024-03-09T16:36:26.427505",
     "status": "completed"
    },
    "tags": []
   },
   "outputs": [
    {
     "data": {
      "text/html": [
       "<div>\n",
       "<style scoped>\n",
       "    .dataframe tbody tr th:only-of-type {\n",
       "        vertical-align: middle;\n",
       "    }\n",
       "\n",
       "    .dataframe tbody tr th {\n",
       "        vertical-align: top;\n",
       "    }\n",
       "\n",
       "    .dataframe thead th {\n",
       "        text-align: right;\n",
       "    }\n",
       "</style>\n",
       "<table border=\"1\" class=\"dataframe\">\n",
       "  <thead>\n",
       "    <tr style=\"text-align: right;\">\n",
       "      <th></th>\n",
       "      <th>bulb_number</th>\n",
       "      <th>timestamp</th>\n",
       "      <th>power_consumption (Watts)</th>\n",
       "      <th>voltage_levels (Volts)</th>\n",
       "      <th>current_fluctuations (Amperes)</th>\n",
       "      <th>temperature (Celsius)</th>\n",
       "      <th>environmental_conditions</th>\n",
       "      <th>current_fluctuations_env (Amperes)</th>\n",
       "      <th>fault_type</th>\n",
       "    </tr>\n",
       "  </thead>\n",
       "  <tbody>\n",
       "    <tr>\n",
       "      <th>0</th>\n",
       "      <td>1</td>\n",
       "      <td>2023-09-06 07:53:23</td>\n",
       "      <td>106.18</td>\n",
       "      <td>238.52</td>\n",
       "      <td>6.127984</td>\n",
       "      <td>21.97</td>\n",
       "      <td>Rainy</td>\n",
       "      <td>0.780000</td>\n",
       "      <td>1</td>\n",
       "    </tr>\n",
       "    <tr>\n",
       "      <th>1</th>\n",
       "      <td>1</td>\n",
       "      <td>2023-03-28 16:28:29</td>\n",
       "      <td>58.71</td>\n",
       "      <td>235.99</td>\n",
       "      <td>3.010000</td>\n",
       "      <td>24.16</td>\n",
       "      <td>Clear</td>\n",
       "      <td>0.100000</td>\n",
       "      <td>0</td>\n",
       "    </tr>\n",
       "    <tr>\n",
       "      <th>2</th>\n",
       "      <td>1</td>\n",
       "      <td>2023-09-20 19:17:46</td>\n",
       "      <td>195.49</td>\n",
       "      <td>234.97</td>\n",
       "      <td>1.060000</td>\n",
       "      <td>13.64</td>\n",
       "      <td>Rainy</td>\n",
       "      <td>0.920000</td>\n",
       "      <td>0</td>\n",
       "    </tr>\n",
       "    <tr>\n",
       "      <th>3</th>\n",
       "      <td>1</td>\n",
       "      <td>2023-02-03 18:19:43</td>\n",
       "      <td>95.64</td>\n",
       "      <td>225.74</td>\n",
       "      <td>2.160000</td>\n",
       "      <td>15.82</td>\n",
       "      <td>Rainy</td>\n",
       "      <td>3.060000</td>\n",
       "      <td>0</td>\n",
       "    </tr>\n",
       "    <tr>\n",
       "      <th>4</th>\n",
       "      <td>1</td>\n",
       "      <td>2023-01-12 13:43:48</td>\n",
       "      <td>70.92</td>\n",
       "      <td>218.76</td>\n",
       "      <td>1.830000</td>\n",
       "      <td>19.12</td>\n",
       "      <td>Rainy</td>\n",
       "      <td>6.529021</td>\n",
       "      <td>4</td>\n",
       "    </tr>\n",
       "  </tbody>\n",
       "</table>\n",
       "</div>"
      ],
      "text/plain": [
       "   bulb_number           timestamp  power_consumption (Watts)  \\\n",
       "0            1 2023-09-06 07:53:23                     106.18   \n",
       "1            1 2023-03-28 16:28:29                      58.71   \n",
       "2            1 2023-09-20 19:17:46                     195.49   \n",
       "3            1 2023-02-03 18:19:43                      95.64   \n",
       "4            1 2023-01-12 13:43:48                      70.92   \n",
       "\n",
       "   voltage_levels (Volts)  current_fluctuations (Amperes)  \\\n",
       "0                  238.52                        6.127984   \n",
       "1                  235.99                        3.010000   \n",
       "2                  234.97                        1.060000   \n",
       "3                  225.74                        2.160000   \n",
       "4                  218.76                        1.830000   \n",
       "\n",
       "   temperature (Celsius) environmental_conditions  \\\n",
       "0                  21.97                    Rainy   \n",
       "1                  24.16                    Clear   \n",
       "2                  13.64                    Rainy   \n",
       "3                  15.82                    Rainy   \n",
       "4                  19.12                    Rainy   \n",
       "\n",
       "   current_fluctuations_env (Amperes)  fault_type  \n",
       "0                            0.780000           1  \n",
       "1                            0.100000           0  \n",
       "2                            0.920000           0  \n",
       "3                            3.060000           0  \n",
       "4                            6.529021           4  "
      ]
     },
     "execution_count": 148,
     "metadata": {},
     "output_type": "execute_result"
    }
   ],
   "source": [
    "# Définition du chemin vers le fichier CSV\n",
    "file_path = '../landing/lamp_failure_detection_dataset.csv'\n",
    "\n",
    "# Chargement du dataset\n",
    "df = pd.read_csv(file_path)\n",
    "\n",
    "# Conversion du champ temporel en format datetime \n",
    "df['timestamp'] = pd.to_datetime(df['timestamp'])\n",
    "\n",
    "# Aperçu des premières lignes du DataFrame \n",
    "df.head()\n"
   ]
  },
  {
   "cell_type": "code",
   "execution_count": 149,
   "id": "e05a9355",
   "metadata": {},
   "outputs": [
    {
     "name": "stdout",
     "output_type": "stream",
     "text": [
      "Duplicates removed: 0\n",
      "Missing values before cleaning: power_consumption (Watts)             0\n",
      "voltage_levels (Volts)                0\n",
      "current_fluctuations (Amperes)        0\n",
      "temperature (Celsius)                 0\n",
      "current_fluctuations_env (Amperes)    0\n",
      "environmental_conditions              0\n",
      "fault_type                            0\n",
      "dtype: int64\n",
      "Missing values after cleaning: power_consumption (Watts)             0\n",
      "voltage_levels (Volts)                0\n",
      "current_fluctuations (Amperes)        0\n",
      "temperature (Celsius)                 0\n",
      "current_fluctuations_env (Amperes)    0\n",
      "environmental_conditions              0\n",
      "fault_type                            0\n",
      "dtype: int64\n",
      "DataFrame shape after cleaning: (34310, 9)\n"
     ]
    }
   ],
   "source": [
    "# Nettoyage approfondi des données\n",
    "numeric_cols = [\n",
    "    'power_consumption (Watts)',\n",
    "    'voltage_levels (Volts)',\n",
    "    'current_fluctuations (Amperes)',\n",
    "    'temperature (Celsius)',\n",
    "    'current_fluctuations_env (Amperes)'\n",
    "]\n",
    "categorical_cols = ['environmental_conditions', 'fault_type']\n",
    "\n",
    "# Suppression des doublons pour éviter les observations redondantes\n",
    "before_duplicates = df.shape[0]\n",
    "df.drop_duplicates(inplace=True)\n",
    "after_duplicates = df.shape[0]\n",
    "df.reset_index(drop=True, inplace=True)\n",
    "print(f'Duplicates removed: {before_duplicates - after_duplicates}')\n",
    "\n",
    "# Conversion explicite des colonnes numériques\n",
    "for col in numeric_cols:\n",
    "    df[col] = pd.to_numeric(df[col], errors='coerce')\n",
    "\n",
    "# Rapport des valeurs manquantes avant imputation\n",
    "missing_report = df[numeric_cols + categorical_cols].isnull().sum()\n",
    "print('Missing values before cleaning:', missing_report)\n",
    "\n",
    "# Imputation des valeurs manquantes : médiane pour les numériques, mode pour les catégorielles\n",
    "for col in numeric_cols:\n",
    "    if df[col].isnull().any():\n",
    "        df[col].fillna(df[col].median(), inplace=True)\n",
    "for col in categorical_cols:\n",
    "    if df[col].isnull().any():\n",
    "        mode = df[col].mode()\n",
    "        if not mode.empty:\n",
    "            df[col].fillna(mode[0], inplace=True)\n",
    "\n",
    "# Détection et limitation des valeurs aberrantes via l'IQR pour stabiliser les distributions\n",
    "for col in numeric_cols:\n",
    "    q1 = df[col].quantile(0.25)\n",
    "    q3 = df[col].quantile(0.75)\n",
    "    iqr = q3 - q1\n",
    "    if pd.isna(iqr) or iqr == 0:\n",
    "        continue\n",
    "    lower_bound = q1 - 1.5 * iqr\n",
    "    upper_bound = q3 + 1.5 * iqr\n",
    "    df[col] = df[col].clip(lower_bound, upper_bound)\n",
    "\n",
    "# Harmonisation des types\n",
    "for col in categorical_cols:\n",
    "    df[col] = df[col].astype('category')\n",
    "\n",
    "clean_missing_report = df[numeric_cols + categorical_cols].isnull().sum()\n",
    "print('Missing values after cleaning:', clean_missing_report)\n",
    "print('DataFrame shape after cleaning:', df.shape)"
   ]
  },
  {
   "cell_type": "code",
   "execution_count": 150,
   "id": "cb45c24a",
   "metadata": {},
   "outputs": [
    {
     "name": "stdout",
     "output_type": "stream",
     "text": [
      "Données nettoyées enregistrées dans ../landing/lamp_failure_detection_dataset_cleaned.csv\n"
     ]
    }
   ],
   "source": [
    "# Enregistrement du jeu de données nettoyé\n",
    "cleaned_csv_path = '../landing/lamp_failure_detection_dataset_cleaned.csv'\n",
    "df.to_csv(cleaned_csv_path, index=False)\n",
    "print(f\"Données nettoyées enregistrées dans {cleaned_csv_path}\")\n"
   ]
  },
  {
   "cell_type": "code",
   "execution_count": 151,
   "id": "b78980b3",
   "metadata": {
    "papermill": {
     "duration": 0.066714,
     "end_time": "2024-03-09T16:36:26.681012",
     "exception": false,
     "start_time": "2024-03-09T16:36:26.614298",
     "status": "completed"
    },
    "tags": []
   },
   "outputs": [
    {
     "data": {
      "text/html": [
       "<div>\n",
       "<style scoped>\n",
       "    .dataframe tbody tr th:only-of-type {\n",
       "        vertical-align: middle;\n",
       "    }\n",
       "\n",
       "    .dataframe tbody tr th {\n",
       "        vertical-align: top;\n",
       "    }\n",
       "\n",
       "    .dataframe thead th {\n",
       "        text-align: right;\n",
       "    }\n",
       "</style>\n",
       "<table border=\"1\" class=\"dataframe\">\n",
       "  <thead>\n",
       "    <tr style=\"text-align: right;\">\n",
       "      <th></th>\n",
       "      <th>bulb_number</th>\n",
       "      <th>timestamp</th>\n",
       "      <th>power_consumption (Watts)</th>\n",
       "      <th>voltage_levels (Volts)</th>\n",
       "      <th>current_fluctuations (Amperes)</th>\n",
       "      <th>temperature (Celsius)</th>\n",
       "      <th>current_fluctuations_env (Amperes)</th>\n",
       "    </tr>\n",
       "  </thead>\n",
       "  <tbody>\n",
       "    <tr>\n",
       "      <th>count</th>\n",
       "      <td>34310.000000</td>\n",
       "      <td>34310</td>\n",
       "      <td>34310.000000</td>\n",
       "      <td>34310.000000</td>\n",
       "      <td>34310.000000</td>\n",
       "      <td>34310.000000</td>\n",
       "      <td>34310.000000</td>\n",
       "    </tr>\n",
       "    <tr>\n",
       "      <th>mean</th>\n",
       "      <td>47.500000</td>\n",
       "      <td>2023-07-02 22:07:46.138210560</td>\n",
       "      <td>123.089437</td>\n",
       "      <td>225.693761</td>\n",
       "      <td>2.658497</td>\n",
       "      <td>20.026780</td>\n",
       "      <td>2.858448</td>\n",
       "    </tr>\n",
       "    <tr>\n",
       "      <th>min</th>\n",
       "      <td>1.000000</td>\n",
       "      <td>2023-01-01 00:33:30</td>\n",
       "      <td>21.518042</td>\n",
       "      <td>210.000000</td>\n",
       "      <td>0.000000</td>\n",
       "      <td>10.000000</td>\n",
       "      <td>0.000000</td>\n",
       "    </tr>\n",
       "    <tr>\n",
       "      <th>25%</th>\n",
       "      <td>24.000000</td>\n",
       "      <td>2023-04-03 13:44:37.750000128</td>\n",
       "      <td>85.929269</td>\n",
       "      <td>217.740000</td>\n",
       "      <td>1.310000</td>\n",
       "      <td>15.020000</td>\n",
       "      <td>1.400000</td>\n",
       "    </tr>\n",
       "    <tr>\n",
       "      <th>50%</th>\n",
       "      <td>47.500000</td>\n",
       "      <td>2023-07-02 15:20:40</td>\n",
       "      <td>123.241718</td>\n",
       "      <td>225.660000</td>\n",
       "      <td>2.600000</td>\n",
       "      <td>20.040000</td>\n",
       "      <td>2.800000</td>\n",
       "    </tr>\n",
       "    <tr>\n",
       "      <th>75%</th>\n",
       "      <td>71.000000</td>\n",
       "      <td>2023-10-01 08:58:27</td>\n",
       "      <td>160.149951</td>\n",
       "      <td>233.250000</td>\n",
       "      <td>3.900000</td>\n",
       "      <td>25.030000</td>\n",
       "      <td>4.110000</td>\n",
       "    </tr>\n",
       "    <tr>\n",
       "      <th>max</th>\n",
       "      <td>94.000000</td>\n",
       "      <td>2023-12-31 23:46:21</td>\n",
       "      <td>200.000000</td>\n",
       "      <td>256.515000</td>\n",
       "      <td>7.785000</td>\n",
       "      <td>30.000000</td>\n",
       "      <td>8.175000</td>\n",
       "    </tr>\n",
       "    <tr>\n",
       "      <th>std</th>\n",
       "      <td>27.134323</td>\n",
       "      <td>NaN</td>\n",
       "      <td>43.484856</td>\n",
       "      <td>9.320931</td>\n",
       "      <td>1.625335</td>\n",
       "      <td>5.772737</td>\n",
       "      <td>1.782947</td>\n",
       "    </tr>\n",
       "  </tbody>\n",
       "</table>\n",
       "</div>"
      ],
      "text/plain": [
       "        bulb_number                      timestamp  power_consumption (Watts)  \\\n",
       "count  34310.000000                          34310               34310.000000   \n",
       "mean      47.500000  2023-07-02 22:07:46.138210560                 123.089437   \n",
       "min        1.000000            2023-01-01 00:33:30                  21.518042   \n",
       "25%       24.000000  2023-04-03 13:44:37.750000128                  85.929269   \n",
       "50%       47.500000            2023-07-02 15:20:40                 123.241718   \n",
       "75%       71.000000            2023-10-01 08:58:27                 160.149951   \n",
       "max       94.000000            2023-12-31 23:46:21                 200.000000   \n",
       "std       27.134323                            NaN                  43.484856   \n",
       "\n",
       "       voltage_levels (Volts)  current_fluctuations (Amperes)  \\\n",
       "count            34310.000000                    34310.000000   \n",
       "mean               225.693761                        2.658497   \n",
       "min                210.000000                        0.000000   \n",
       "25%                217.740000                        1.310000   \n",
       "50%                225.660000                        2.600000   \n",
       "75%                233.250000                        3.900000   \n",
       "max                256.515000                        7.785000   \n",
       "std                  9.320931                        1.625335   \n",
       "\n",
       "       temperature (Celsius)  current_fluctuations_env (Amperes)  \n",
       "count           34310.000000                        34310.000000  \n",
       "mean               20.026780                            2.858448  \n",
       "min                10.000000                            0.000000  \n",
       "25%                15.020000                            1.400000  \n",
       "50%                20.040000                            2.800000  \n",
       "75%                25.030000                            4.110000  \n",
       "max                30.000000                            8.175000  \n",
       "std                 5.772737                            1.782947  "
      ]
     },
     "execution_count": 151,
     "metadata": {},
     "output_type": "execute_result"
    }
   ],
   "source": [
    "# Statistiques descriptives du jeu de données\n",
    "df.describe()"
   ]
  },
  {
   "cell_type": "code",
   "execution_count": 152,
   "id": "03a1fa63",
   "metadata": {
    "papermill": {
     "duration": 0.828285,
     "end_time": "2024-03-09T16:36:27.515821",
     "exception": false,
     "start_time": "2024-03-09T16:36:26.687536",
     "status": "completed"
    },
    "tags": []
   },
   "outputs": [
    {
     "data": {
      "image/png": "[encoded data removed]",
      "text/plain": [
       "<Figure size 1000x800 with 2 Axes>"
      ]
     },
     "metadata": {},
     "output_type": "display_data"
    }
   ],
   "source": [
    "# Encodage des variables catégorielles\n",
    "df1 = pd.get_dummies(df, columns=['environmental_conditions'], drop_first=True)\n",
    "\n",
    "# Calcul de la matrice de corrélation\n",
    "correlation_matrix = df1.corr()\n",
    "\n",
    "# Visualisation de la matrice de corrélation\n",
    "plt.figure(figsize=(10, 8))\n",
    "sns.heatmap(correlation_matrix, annot=True, cmap='coolwarm', fmt=\".2f\", linewidths=.5)\n",
    "# Titre du graphique\n",
    "plt.title(\"Correlation Matrix\")\n",
    "# Affiche la heatmap à l’écran\n",
    "plt.show()"
   ]
  },
  {
   "cell_type": "code",
   "execution_count": 153,
   "id": "2abdc81c",
   "metadata": {
    "papermill": {
     "duration": 0.291199,
     "end_time": "2024-03-09T16:36:27.815766",
     "exception": false,
     "start_time": "2024-03-09T16:36:27.524567",
     "status": "completed"
    },
    "tags": []
   },
   "outputs": [
    {
     "data": {
      "image/png": "[encoded data removed]",
      "text/plain": [
       "<Figure size 800x600 with 1 Axes>"
      ]
     },
     "metadata": {},
     "output_type": "display_data"
    }
   ],
   "source": [
    "# Visualisation de la répartition des types de pannes\n",
    "plt.figure(figsize=(8, 6)) # Définit la taille de la figure\n",
    "\n",
    "# Crée un diagramme en barres montrant le nombre d’occurrences de chaque type de panne dans la colonne 'fault_type'\n",
    "sns.countplot(x='fault_type', data=df)\n",
    "\n",
    "# Titre du graphique\n",
    "plt.title(\"Distribution of Fault Types\")\n",
    "\n",
    "# Étiquette de l’axe des abscisses\n",
    "plt.xlabel(\"Fault Type\")\n",
    "\n",
    "# Étiquette de l’axe des ordonnées\n",
    "plt.ylabel(\"Count\")\n",
    "\n",
    "# Affiche le graphique\n",
    "plt.show()"
   ]
  },
  {
   "cell_type": "code",
   "execution_count": 154,
   "id": "9b938e43-18e9-4974-8849-643c8e628fc5",
   "metadata": {},
   "outputs": [
    {
     "data": {
      "image/png": "[encoded data removed]",
      "text/plain": [
       "<Figure size 800x600 with 1 Axes>"
      ]
     },
     "metadata": {},
     "output_type": "display_data"
    }
   ],
   "source": [
    "# Visualisation de la relation entre le type de panne et les fluctuations de courant\n",
    "plt.figure(figsize=(8, 6))  # Définition de la taille du graphique\n",
    "\n",
    "# Création d’un boxplot pour visualiser la distribution des fluctuations de courant (ampères) en fonction des différents types de pannes (fault_type)\n",
    "sns.boxplot(x='fault_type', y='current_fluctuations (Amperes)', data=df)\n",
    "\n",
    "# Ajout d’un titre\n",
    "plt.title(\"Current Fluctuations (Amperes) vs Fault Type\")\n",
    "\n",
    "# Étiquettes des axes\n",
    "plt.xlabel(\"Fault Type\")  # Axe X : les différents types de pannes\n",
    "plt.ylabel(\"Current Fluctuations (Amperes)\")  # Axe Y : intensité du courant\n",
    "\n",
    "# Affichage du graphique\n",
    "plt.show()"
   ]
  },
  {
   "cell_type": "code",
   "execution_count": 155,
   "id": "6d5e34b6-9589-4b89-9e84-17b7e91d3475",
   "metadata": {},
   "outputs": [
    {
     "data": {
      "image/png": "[encoded data removed]",
      "text/plain": [
       "<Figure size 800x600 with 1 Axes>"
      ]
     },
     "metadata": {},
     "output_type": "display_data"
    }
   ],
   "source": [
    "# Visualisation de la relation entre le type de panne et la température\n",
    "plt.figure(figsize=(8, 6))  # Définition de la taille du graphique\n",
    "\n",
    "# Création d’un boxplot pour visualiser la distribution de la température (°C) en fonction des différents types de pannes (fault_type)\n",
    "sns.boxplot(x='fault_type', y='temperature (Celsius)', data=df)\n",
    "\n",
    "# Ajout d’un titre\n",
    "plt.title(\"Temperature vs Fault Type\")\n",
    "\n",
    "# Étiquettes des axes\n",
    "plt.xlabel(\"Fault Type\")  # Axe X : les différents types de pannes\n",
    "plt.ylabel(\"Temperature (°C)\")  # Axe Y : température en degrés Celsius\n",
    "\n",
    "# Affichage du graphique\n",
    "plt.show()"
   ]
  },
  {
   "cell_type": "code",
   "execution_count": 156,
   "id": "359acbe9-e7b0-4ed2-8f78-c9c8a031bffc",
   "metadata": {},
   "outputs": [],
   "source": [
    "# Copier le DataFrame pour chaque modèle\n",
    "df_rf = df.copy(deep=True)   # Pour Random Forest\n",
    "df_lr = df.copy(deep=True)   # Pour Logistic Regression"
   ]
  },
  {
   "cell_type": "markdown",
   "id": "db5d3a7e-e644-468e-accf-88cc993b15b2",
   "metadata": {},
   "source": [
    "# Logistic Regression"
   ]
  },
  {
   "cell_type": "code",
   "execution_count": 157,
   "id": "71851eca-f95c-4e7d-9120-3ebbc084774e",
   "metadata": {},
   "outputs": [
    {
     "name": "stdout",
     "output_type": "stream",
     "text": [
      "Accuracy (Logistic Regression): 0.83\n",
      "\n",
      "Confusion Matrix:\n",
      "[[4835    0    0    0   28]\n",
      " [  90  222    0    0    1]\n",
      " [ 180    0  135    0    0]\n",
      " [ 663    0    0    0    0]\n",
      " [ 224    0    0    0  484]]\n",
      "\n",
      "Classification Report:\n",
      "              precision    recall  f1-score   support\n",
      "\n",
      "           0       0.81      0.99      0.89      4863\n",
      "           1       1.00      0.71      0.83       313\n",
      "           2       1.00      0.43      0.60       315\n",
      "           3       0.00      0.00      0.00       663\n",
      "           4       0.94      0.68      0.79       708\n",
      "\n",
      "    accuracy                           0.83      6862\n",
      "   macro avg       0.75      0.56      0.62      6862\n",
      "weighted avg       0.76      0.83      0.78      6862\n",
      "\n"
     ]
    },
    {
     "name": "stderr",
     "output_type": "stream",
     "text": [
      "/Users/gaowen/Downloads/Hackathon-October/.venv/lib/python3.13/site-packages/sklearn/linear_model/_logistic.py:1272: FutureWarning: 'multi_class' was deprecated in version 1.5 and will be removed in 1.8. From then on, it will always use 'multinomial'. Leave it to its default value to avoid this warning.\n",
      "  warnings.warn(\n"
     ]
    }
   ],
   "source": [
    "# Définition des variables explicatives (features) et de la cible (target)\n",
    "features_lr = ['power_consumption (Watts)', 'voltage_levels (Volts)', 'current_fluctuations (Amperes)', 'temperature (Celsius)', 'current_fluctuations_env (Amperes)']\n",
    "target = 'fault_type'\n",
    "\n",
    "# Nettoyage et conversion des données numériques\n",
    "for feature in features_lr:\n",
    "    df_lr[feature] = pd.to_numeric(df_lr[feature].astype(str).replace('[^0-9.]', '', regex=True), errors='coerce')\n",
    "\n",
    "# Encodage des variables catégorielles\n",
    "df_lr = pd.get_dummies(df_lr, columns=['environmental_conditions'], drop_first=True)\n",
    "\n",
    "# Préparation des données\n",
    "X = df_lr[features_lr + list(df_lr.columns[df_lr.columns.str.startswith('environmental_conditions')])]\n",
    "y = df_lr[target]\n",
    "\n",
    "# Standardisation des features numériques pour la régression logistique\n",
    "scaler = StandardScaler()\n",
    "X_scaled = scaler.fit_transform(X)\n",
    "\n",
    "# Séparation en train / test\n",
    "X_train, X_test, y_train, y_test = train_test_split(X_scaled, y, test_size=0.2, random_state=42)\n",
    "\n",
    "# Entraînement du modèle\n",
    "log_model = LogisticRegression(max_iter=1000, random_state=42, multi_class='multinomial')\n",
    "log_model.fit(X_train, y_train)\n",
    "\n",
    "# Prédiction\n",
    "y_pred = log_model.predict(X_test)\n",
    "\n",
    "# Évaluation\n",
    "accuracy = accuracy_score(y_test, y_pred)\n",
    "conf_matrix = confusion_matrix(y_test, y_pred)\n",
    "class_report = classification_report(y_test, y_pred, zero_division=0)\n",
    "\n",
    "print(f\"Accuracy (Logistic Regression): {accuracy:.2f}\")\n",
    "print(\"\\nConfusion Matrix:\")\n",
    "print(conf_matrix)\n",
    "print(\"\\nClassification Report:\")\n",
    "print(class_report)\n"
   ]
  },
  {
   "cell_type": "code",
   "execution_count": 158,
   "id": "4f7c7f30-1a4e-4234-bdfb-2ebafd1aff36",
   "metadata": {},
   "outputs": [
    {
     "name": "stdout",
     "output_type": "stream",
     "text": [
      "Manual Example 1 - Predicted Fault Type: 0\n",
      "Manual Example 2 - Predicted Fault Type: 4\n",
      "Manual Example 3 - Predicted Fault Type: 1\n",
      "Manual Example 4 - Predicted Fault Type: 2\n",
      "Manual Example 5 - Predicted Fault Type: 0\n"
     ]
    }
   ],
   "source": [
    "# Liste des exemples manuels\n",
    "manual_examples_lr = [\n",
    "    {\n",
    "        'power_consumption (Watts)': 48.423,\n",
    "        'voltage_levels (Volts)': 218.93,\n",
    "        'current_fluctuations (Amperes)': 3.01,\n",
    "        'temperature (Celsius)': 28.34,\n",
    "        'current_fluctuations_env (Amperes)': 1.95,\n",
    "        'environmental_conditions_Cloudy': 0,\n",
    "        'environmental_conditions_Rainy': 0\n",
    "    },\n",
    "    {\n",
    "        'power_consumption (Watts)': 176.39,\n",
    "        'voltage_levels (Volts)': 213.09,\n",
    "        'current_fluctuations (Amperes)': 3.64,\n",
    "        'temperature (Celsius)': 23.2,\n",
    "        'current_fluctuations_env (Amperes)': 7.106,\n",
    "        'environmental_conditions_Cloudy': 0,\n",
    "        'environmental_conditions_Rainy': 0\n",
    "    },\n",
    "    {\n",
    "        'power_consumption (Watts)': 157.14,\n",
    "        'voltage_levels (Volts)': 228.39,\n",
    "        'current_fluctuations (Amperes)': 6.849,\n",
    "        'temperature (Celsius)': 24.38,\n",
    "        'current_fluctuations_env (Amperes)': 1.06,\n",
    "        'environmental_conditions_Cloudy': 0,\n",
    "        'environmental_conditions_Rainy': 0\n",
    "    },\n",
    "    {\n",
    "        'power_consumption (Watts)': 107.45,\n",
    "        'voltage_levels (Volts)': 248.126,\n",
    "        'current_fluctuations (Amperes)': 0.7,\n",
    "        'temperature (Celsius)': 23.36,\n",
    "        'current_fluctuations_env (Amperes)': 4.77,\n",
    "        'environmental_conditions_Cloudy': 1,\n",
    "        'environmental_conditions_Rainy': 0\n",
    "    },\n",
    "    {\n",
    "        'power_consumption (Watts)': 187.86,\n",
    "        'voltage_levels (Volts)': 212.43,\n",
    "        'current_fluctuations (Amperes)': 4.28,\n",
    "        'temperature (Celsius)': 21.59,\n",
    "        'current_fluctuations_env (Amperes)': 2.04,\n",
    "        'environmental_conditions_Cloudy': 0,\n",
    "        'environmental_conditions_Rainy': 1\n",
    "    }\n",
    "]\n",
    "\n",
    "# Création du DataFrame\n",
    "manual_df_lr = pd.DataFrame(manual_examples_lr)\n",
    "\n",
    "# Standardisation des valeurs numériques\n",
    "manual_scaled = scaler.transform(manual_df_lr)\n",
    "\n",
    "# Prédiction\n",
    "manual_preds = log_model.predict(manual_scaled)\n",
    "\n",
    "# Affichage des résultats\n",
    "for i, pred in enumerate(manual_preds, 1):\n",
    "    print(f\"Manual Example {i} - Predicted Fault Type: {pred}\")\n"
   ]
  },
  {
   "cell_type": "markdown",
   "id": "65389b1c-223b-457e-9b74-32ab04f0766b",
   "metadata": {},
   "source": [
    "# Random Forest"
   ]
  },
  {
   "cell_type": "code",
   "execution_count": 159,
   "id": "2846c156",
   "metadata": {
    "papermill": {
     "duration": 7.803287,
     "end_time": "2024-03-09T16:36:35.629850",
     "exception": false,
     "start_time": "2024-03-09T16:36:27.826563",
     "status": "completed"
    },
    "tags": []
   },
   "outputs": [
    {
     "name": "stdout",
     "output_type": "stream",
     "text": [
      "Accuracy: 0.85\n",
      "\n",
      "Confusion Matrix:\n",
      "[[4841    0    0   20    2]\n",
      " [  78  235    0    0    0]\n",
      " [ 160    0  154    1    0]\n",
      " [ 570    0    0   93    0]\n",
      " [ 220    0    0    0  488]]\n",
      "\n",
      "Classification Report:\n",
      "              precision    recall  f1-score   support\n",
      "\n",
      "           0       0.82      1.00      0.90      4863\n",
      "           1       1.00      0.75      0.86       313\n",
      "           2       1.00      0.49      0.66       315\n",
      "           3       0.82      0.14      0.24       663\n",
      "           4       1.00      0.69      0.81       708\n",
      "\n",
      "    accuracy                           0.85      6862\n",
      "   macro avg       0.93      0.61      0.69      6862\n",
      "weighted avg       0.86      0.85      0.82      6862\n",
      "\n"
     ]
    }
   ],
   "source": [
    "# Définition des variables explicatives (features) et de la cible (target)\n",
    "features_rf = ['power_consumption (Watts)', 'voltage_levels (Volts)', 'current_fluctuations (Amperes)', 'temperature (Celsius)', 'current_fluctuations_env (Amperes)']\n",
    "target = 'fault_type'\n",
    "\n",
    "# Nettoyage et conversion des données numériques\n",
    "for feature in features_rf:\n",
    "    df_rf[feature] = pd.to_numeric(df_rf[feature].astype(str).replace('[^0-9.]', '', regex=True), errors='coerce')\n",
    "\n",
    "\n",
    "# Encodage des variables catégorielles\n",
    "df_rf = pd.get_dummies(df_rf, columns=['environmental_conditions'], drop_first=True)\n",
    "\n",
    "# Séparation des données en ensemble d'entraînement et de test\n",
    "X_train, X_test, y_train, y_test = train_test_split(df_rf[features_rf + list(df_rf.columns[df_rf.columns.str.startswith('environmental_conditions')])], df_rf[target], test_size=0.2, random_state=42)\n",
    "\n",
    "# Entraînement du modèle Random Forest\n",
    "rf_model = RandomForestClassifier(random_state=42)\n",
    "rf_model.fit(X_train, y_train)\n",
    "\n",
    "# Prédiction sur l’ensemble de test\n",
    "y_pred = rf_model.predict(X_test)\n",
    "\n",
    "# Évaluation du modèle\n",
    "# Mesure la proportion de bonnes prédictions\n",
    "accuracy = accuracy_score(y_test, y_pred)\n",
    "# Compare les prédictions vs les vraies classes pour chaque type de panne\n",
    "conf_matrix = confusion_matrix(y_test, y_pred)\n",
    "# Fournit précision, rappel et F1-score pour chaque classe\n",
    "class_report = classification_report(y_test, y_pred)\n",
    "\n",
    "# Affichage des résultats\n",
    "print(f\"Accuracy: {accuracy:.2f}\")\n",
    "print(\"\\nConfusion Matrix:\")\n",
    "print(conf_matrix)\n",
    "print(\"\\nClassification Report:\")\n",
    "print(class_report)\n",
    "\n"
   ]
  },
  {
   "cell_type": "code",
   "execution_count": 160,
   "id": "df5b51e8",
   "metadata": {
    "papermill": {
     "duration": 0.019853,
     "end_time": "2024-03-09T16:36:35.658983",
     "exception": false,
     "start_time": "2024-03-09T16:36:35.639130",
     "status": "completed"
    },
    "tags": []
   },
   "outputs": [
    {
     "name": "stdout",
     "output_type": "stream",
     "text": [
      "Feature names during model training:\n",
      "['power_consumption (Watts)' 'voltage_levels (Volts)'\n",
      " 'current_fluctuations (Amperes)' 'temperature (Celsius)'\n",
      " 'current_fluctuations_env (Amperes)' 'environmental_conditions_Cloudy'\n",
      " 'environmental_conditions_Rainy']\n"
     ]
    }
   ],
   "source": [
    "# Affichage des noms de variables utilisés pendant l'entraînement du modèle\n",
    "print(\"Feature names during model training:\")\n",
    "print(rf_model.feature_names_in_)\n"
   ]
  },
  {
   "cell_type": "code",
   "execution_count": 161,
   "id": "1cb22123",
   "metadata": {
    "papermill": {
     "duration": 0.034184,
     "end_time": "2024-03-09T16:36:35.702165",
     "exception": false,
     "start_time": "2024-03-09T16:36:35.667981",
     "status": "completed"
    },
    "tags": []
   },
   "outputs": [
    {
     "name": "stdout",
     "output_type": "stream",
     "text": [
      "Manual Prediction:\n",
      "Predicted Fault Type: 3\n"
     ]
    }
   ],
   "source": [
    "# Création d’un dictionnaire avec des valeurs manuelles pour prédiction\n",
    "manual_values = {\n",
    "    'power_consumption (Watts)': 48.423,\n",
    "    'voltage_levels (Volts)': 218.93,\n",
    "    'current_fluctuations (Amperes)': 3.01,\n",
    "    'temperature (Celsius)': 28.34,\n",
    "    'current_fluctuations_env (Amperes)': 1.95,\n",
    "    'environmental_conditions_Cloudy': False,\n",
    "    'environmental_conditions_Rainy': False\n",
    "}\n",
    "\n",
    "# Conversion du dictionnaire en DataFrame\n",
    "manual_df = pd.DataFrame([manual_values])\n",
    "\n",
    "# Assurer la conversion en valeurs numériques pour les colonnes de features\n",
    "for feature in features_rf:\n",
    "    manual_df[feature] = pd.to_numeric(manual_df[feature], errors='coerce')\n",
    "\n",
    "# Prédiction avec le modèle Random Forest\n",
    "manual_pred = rf_model.predict(manual_df)\n",
    "\n",
    "# Affichage du résultat\n",
    "print(\"Manual Prediction:\")\n",
    "print(\"Predicted Fault Type:\", manual_pred[0])\n"
   ]
  },
  {
   "cell_type": "code",
   "execution_count": 162,
   "id": "129e97b5",
   "metadata": {
    "papermill": {
     "duration": 0.03458,
     "end_time": "2024-03-09T16:36:35.746024",
     "exception": false,
     "start_time": "2024-03-09T16:36:35.711444",
     "status": "completed"
    },
    "tags": []
   },
   "outputs": [
    {
     "name": "stdout",
     "output_type": "stream",
     "text": [
      "Manual Prediction:\n",
      "Predicted Fault Type: 4\n"
     ]
    }
   ],
   "source": [
    "# Création d’un second exemple manuel pour prédiction\n",
    "manual_values_2 = {\n",
    "    'power_consumption (Watts)': 176.39,\n",
    "    'voltage_levels (Volts)': 213.09,\n",
    "    'current_fluctuations (Amperes)': 3.64,\n",
    "    'temperature (Celsius)': 23.2,\n",
    "    'current_fluctuations_env (Amperes)': 7.106,\n",
    "    'environmental_conditions_Cloudy': False,\n",
    "    'environmental_conditions_Rainy': False\n",
    "}\n",
    "\n",
    "# Conversion du dictionnaire en DataFrame\n",
    "manual_df_2 = pd.DataFrame([manual_values_2])\n",
    "\n",
    "# Conversion des colonnes de features en valeurs numériques\n",
    "for feature in features_rf:\n",
    "    manual_df_2[feature] = pd.to_numeric(manual_df_2[feature], errors='coerce')\n",
    "\n",
    "# Prédiction du type de panne avec le modèle Random Forest\n",
    "manual_pred_2 = rf_model.predict(manual_df_2)\n",
    "\n",
    "# Affichage du résultat\n",
    "print(\"Manual Prediction:\")\n",
    "print(\"Predicted Fault Type:\", manual_pred_2[0])\n"
   ]
  },
  {
   "cell_type": "code",
   "execution_count": 163,
   "id": "6f635d10",
   "metadata": {
    "papermill": {
     "duration": 0.03517,
     "end_time": "2024-03-09T16:36:35.791185",
     "exception": false,
     "start_time": "2024-03-09T16:36:35.756015",
     "status": "completed"
    },
    "tags": []
   },
   "outputs": [
    {
     "name": "stdout",
     "output_type": "stream",
     "text": [
      "Manual Prediction:\n",
      "Predicted Fault Type: 1\n"
     ]
    }
   ],
   "source": [
    "# Création d’un troisième exemple manuel pour prédiction\n",
    "manual_values_3 = {\n",
    "    'power_consumption (Watts)': 157.14,\n",
    "    'voltage_levels (Volts)': 228.39,\n",
    "    'current_fluctuations (Amperes)': 6.849,\n",
    "    'temperature (Celsius)': 24.38,\n",
    "    'current_fluctuations_env (Amperes)': 1.06,\n",
    "    'environmental_conditions_Cloudy': False,\n",
    "    'environmental_conditions_Rainy': False\n",
    "}\n",
    "\n",
    "# Conversion du dictionnaire en DataFrame\n",
    "manual_df_3 = pd.DataFrame([manual_values_3])\n",
    "\n",
    "# Conversion des colonnes de features en valeurs numériques\n",
    "for feature in features_rf:\n",
    "    manual_df_3[feature] = pd.to_numeric(manual_df_3[feature], errors='coerce')\n",
    "\n",
    "# Prédiction du type de panne avec le modèle Random Forest\n",
    "manual_pred_3 = rf_model.predict(manual_df_3)\n",
    "\n",
    "# Affichage du résultat\n",
    "print(\"Manual Prediction:\")\n",
    "print(\"Predicted Fault Type:\", manual_pred_3[0])\n"
   ]
  },
  {
   "cell_type": "code",
   "execution_count": 164,
   "id": "5af69bba",
   "metadata": {
    "papermill": {
     "duration": 0.034404,
     "end_time": "2024-03-09T16:36:35.835196",
     "exception": false,
     "start_time": "2024-03-09T16:36:35.800792",
     "status": "completed"
    },
    "tags": []
   },
   "outputs": [
    {
     "name": "stdout",
     "output_type": "stream",
     "text": [
      "Manual Prediction:\n",
      "Predicted Fault Type: 2\n"
     ]
    }
   ],
   "source": [
    "# Création d’un quatrième exemple manuel pour prédiction\n",
    "manual_values_4 = {\n",
    "    'power_consumption (Watts)': 107.45,\n",
    "    'voltage_levels (Volts)': 248.126,\n",
    "    'current_fluctuations (Amperes)': 0.7,\n",
    "    'temperature (Celsius)': 23.36,\n",
    "    'current_fluctuations_env (Amperes)': 4.77,\n",
    "    'environmental_conditions_Cloudy': True,\n",
    "    'environmental_conditions_Rainy': False\n",
    "}\n",
    "\n",
    "# Conversion du dictionnaire en DataFrame\n",
    "manual_df_4 = pd.DataFrame([manual_values_4])\n",
    "\n",
    "# Conversion des colonnes de features en valeurs numériques\n",
    "for feature in features_rf:\n",
    "    manual_df_4[feature] = pd.to_numeric(manual_df_4[feature], errors='coerce')\n",
    "\n",
    "# Prédiction du type de panne avec le modèle Random Forest\n",
    "manual_pred_4 = rf_model.predict(manual_df_4)\n",
    "\n",
    "# Affichage du résultat\n",
    "print(\"Manual Prediction:\")\n",
    "print(\"Predicted Fault Type:\", manual_pred_4[0])\n"
   ]
  },
  {
   "cell_type": "code",
   "execution_count": 165,
   "id": "07cf0800",
   "metadata": {
    "papermill": {
     "duration": 0.041089,
     "end_time": "2024-03-09T16:36:35.885724",
     "exception": false,
     "start_time": "2024-03-09T16:36:35.844635",
     "status": "completed"
    },
    "tags": []
   },
   "outputs": [
    {
     "name": "stdout",
     "output_type": "stream",
     "text": [
      "Manual Prediction:\n",
      "Predicted Fault Type: 0\n"
     ]
    }
   ],
   "source": [
    "# Création d’un cinquième exemple manuel pour prédiction \n",
    "manual_values_5 = {\n",
    "    'power_consumption (Watts)': 187.86,\n",
    "    'voltage_levels (Volts)': 212.43,\n",
    "    'current_fluctuations (Amperes)': 4.28,\n",
    "    'temperature (Celsius)': 21.59,\n",
    "    'current_fluctuations_env (Amperes)': 2.04,\n",
    "    'environmental_conditions_Cloudy': False,\n",
    "    'environmental_conditions_Rainy': True\n",
    "}\n",
    "\n",
    "# Conversion du dictionnaire en DataFrame\n",
    "manual_df_5 = pd.DataFrame([manual_values_5])\n",
    "\n",
    "# Conversion des colonnes de features en valeurs numériques\n",
    "for feature in features_rf:\n",
    "    manual_df_5[feature] = pd.to_numeric(manual_df_5[feature], errors='coerce')\n",
    "\n",
    "# Prédiction du type de panne avec le modèle Random Forest\n",
    "manual_pred_5 = rf_model.predict(manual_df_5)\n",
    "\n",
    "# Affichage du résultat\n",
    "print(\"Manual Prediction:\")\n",
    "print(\"Predicted Fault Type:\", manual_pred_5[0])\n"
   ]
  },
  {
   "cell_type": "markdown",
   "id": "fa2b8feb",
   "metadata": {
    "papermill": {
     "duration": 0.009104,
     "end_time": "2024-03-09T16:36:35.923318",
     "exception": false,
     "start_time": "2024-03-09T16:36:35.914214",
     "status": "completed"
    },
    "tags": []
   },
   "source": []
  },
  {
   "cell_type": "markdown",
   "id": "aa1c44db",
   "metadata": {},
   "source": [
    "## Remaining Useful Life Regression\n",
    "\n",
    "Estimating the hours remaining until the next failure for each lamp based on historical sensor readings.\n"
   ]
  },
  {
   "cell_type": "code",
   "execution_count": 166,
   "id": "6db2c2e8",
   "metadata": {},
   "outputs": [
    {
     "name": "stderr",
     "output_type": "stream",
     "text": [
      "/var/folders/gq/w_g3zyld0gqdj67phd2tkjhw0000gn/T/ipykernel_53333/3910898673.py:20: FutureWarning: A value is trying to be set on a copy of a DataFrame or Series through chained assignment using an inplace method.\n",
      "The behavior will change in pandas 3.0. This inplace method will never work because the intermediate object on which we are setting values always behaves as a copy.\n",
      "\n",
      "For example, when doing 'df[col].method(value, inplace=True)', try using 'df.method({col: value}, inplace=True)' or df[col] = df[col].method(value) instead, to perform the operation inplace on the original object.\n",
      "\n",
      "\n",
      "  regression_df['hours_since_prev_reading'].fillna(0.0, inplace=True)\n"
     ]
    },
    {
     "data": {
      "text/html": [
       "<div>\n",
       "<style scoped>\n",
       "    .dataframe tbody tr th:only-of-type {\n",
       "        vertical-align: middle;\n",
       "    }\n",
       "\n",
       "    .dataframe tbody tr th {\n",
       "        vertical-align: top;\n",
       "    }\n",
       "\n",
       "    .dataframe thead th {\n",
       "        text-align: right;\n",
       "    }\n",
       "</style>\n",
       "<table border=\"1\" class=\"dataframe\">\n",
       "  <thead>\n",
       "    <tr style=\"text-align: right;\">\n",
       "      <th></th>\n",
       "      <th>bulb_number</th>\n",
       "      <th>timestamp</th>\n",
       "      <th>power_consumption (Watts)</th>\n",
       "      <th>voltage_levels (Volts)</th>\n",
       "      <th>current_fluctuations (Amperes)</th>\n",
       "      <th>temperature (Celsius)</th>\n",
       "      <th>environmental_conditions</th>\n",
       "      <th>current_fluctuations_env (Amperes)</th>\n",
       "      <th>fault_type</th>\n",
       "      <th>target_remaining_time</th>\n",
       "      <th>hours_since_prev_reading</th>\n",
       "      <th>hours_since_last_fault</th>\n",
       "      <th>failure_interval_hours</th>\n",
       "    </tr>\n",
       "  </thead>\n",
       "  <tbody>\n",
       "    <tr>\n",
       "      <th>0</th>\n",
       "      <td>1</td>\n",
       "      <td>2023-01-01 15:45:49</td>\n",
       "      <td>69.12</td>\n",
       "      <td>221.92</td>\n",
       "      <td>3.99</td>\n",
       "      <td>13.00</td>\n",
       "      <td>Rainy</td>\n",
       "      <td>1.15</td>\n",
       "      <td>0</td>\n",
       "      <td>39.191667</td>\n",
       "      <td>0.000000</td>\n",
       "      <td>0.000000</td>\n",
       "      <td>39.191667</td>\n",
       "    </tr>\n",
       "    <tr>\n",
       "      <th>1</th>\n",
       "      <td>1</td>\n",
       "      <td>2023-01-02 06:14:54</td>\n",
       "      <td>123.88</td>\n",
       "      <td>215.86</td>\n",
       "      <td>3.61</td>\n",
       "      <td>15.62</td>\n",
       "      <td>Rainy</td>\n",
       "      <td>0.12</td>\n",
       "      <td>0</td>\n",
       "      <td>24.706944</td>\n",
       "      <td>14.484722</td>\n",
       "      <td>14.484722</td>\n",
       "      <td>39.191667</td>\n",
       "    </tr>\n",
       "    <tr>\n",
       "      <th>2</th>\n",
       "      <td>1</td>\n",
       "      <td>2023-01-03 03:40:53</td>\n",
       "      <td>113.21</td>\n",
       "      <td>236.78</td>\n",
       "      <td>4.09</td>\n",
       "      <td>16.84</td>\n",
       "      <td>Clear</td>\n",
       "      <td>1.30</td>\n",
       "      <td>0</td>\n",
       "      <td>3.273889</td>\n",
       "      <td>21.433056</td>\n",
       "      <td>21.433056</td>\n",
       "      <td>24.706944</td>\n",
       "    </tr>\n",
       "    <tr>\n",
       "      <th>4</th>\n",
       "      <td>1</td>\n",
       "      <td>2023-01-03 19:01:24</td>\n",
       "      <td>75.98</td>\n",
       "      <td>223.02</td>\n",
       "      <td>1.99</td>\n",
       "      <td>22.32</td>\n",
       "      <td>Clear</td>\n",
       "      <td>3.18</td>\n",
       "      <td>0</td>\n",
       "      <td>180.309722</td>\n",
       "      <td>12.068056</td>\n",
       "      <td>12.068056</td>\n",
       "      <td>192.377778</td>\n",
       "    </tr>\n",
       "    <tr>\n",
       "      <th>5</th>\n",
       "      <td>1</td>\n",
       "      <td>2023-01-04 03:28:42</td>\n",
       "      <td>95.84</td>\n",
       "      <td>236.30</td>\n",
       "      <td>4.98</td>\n",
       "      <td>17.37</td>\n",
       "      <td>Rainy</td>\n",
       "      <td>2.24</td>\n",
       "      <td>0</td>\n",
       "      <td>171.854722</td>\n",
       "      <td>8.455000</td>\n",
       "      <td>20.523056</td>\n",
       "      <td>192.377778</td>\n",
       "    </tr>\n",
       "  </tbody>\n",
       "</table>\n",
       "</div>"
      ],
      "text/plain": [
       "   bulb_number           timestamp  power_consumption (Watts)  \\\n",
       "0            1 2023-01-01 15:45:49                      69.12   \n",
       "1            1 2023-01-02 06:14:54                     123.88   \n",
       "2            1 2023-01-03 03:40:53                     113.21   \n",
       "4            1 2023-01-03 19:01:24                      75.98   \n",
       "5            1 2023-01-04 03:28:42                      95.84   \n",
       "\n",
       "   voltage_levels (Volts)  current_fluctuations (Amperes)  \\\n",
       "0                  221.92                            3.99   \n",
       "1                  215.86                            3.61   \n",
       "2                  236.78                            4.09   \n",
       "4                  223.02                            1.99   \n",
       "5                  236.30                            4.98   \n",
       "\n",
       "   temperature (Celsius) environmental_conditions  \\\n",
       "0                  13.00                    Rainy   \n",
       "1                  15.62                    Rainy   \n",
       "2                  16.84                    Clear   \n",
       "4                  22.32                    Clear   \n",
       "5                  17.37                    Rainy   \n",
       "\n",
       "   current_fluctuations_env (Amperes) fault_type  target_remaining_time  \\\n",
       "0                                1.15          0              39.191667   \n",
       "1                                0.12          0              24.706944   \n",
       "2                                1.30          0               3.273889   \n",
       "4                                3.18          0             180.309722   \n",
       "5                                2.24          0             171.854722   \n",
       "\n",
       "   hours_since_prev_reading  hours_since_last_fault  failure_interval_hours  \n",
       "0                  0.000000                0.000000               39.191667  \n",
       "1                 14.484722               14.484722               39.191667  \n",
       "2                 21.433056               21.433056               24.706944  \n",
       "4                 12.068056               12.068056              192.377778  \n",
       "5                  8.455000               20.523056              192.377778  "
      ]
     },
     "execution_count": 166,
     "metadata": {},
     "output_type": "execute_result"
    }
   ],
   "source": [
    "# Construct regression target: hours until the next failure\n",
    "regression_df = df.copy()\n",
    "regression_df = regression_df.sort_values(['bulb_number', 'timestamp']).reset_index(drop=True)\n",
    "regression_df['is_fault'] = regression_df['fault_type'] != 0\n",
    "\n",
    "regression_df['failure_timestamp'] = regression_df['timestamp'].where(regression_df['is_fault'])\n",
    "regression_df['next_fault_ts'] = (\n",
    "    regression_df.groupby('bulb_number')['failure_timestamp']\n",
    "    .transform(lambda s: s.bfill())\n",
    ")\n",
    "\n",
    "regression_df['target_remaining_time'] = (\n",
    "    (regression_df['next_fault_ts'] - regression_df['timestamp']).dt.total_seconds() / 3600.0\n",
    ")\n",
    "\n",
    "regression_df['prev_timestamp'] = regression_df.groupby('bulb_number')['timestamp'].shift(1)\n",
    "regression_df['hours_since_prev_reading'] = (\n",
    "    (regression_df['timestamp'] - regression_df['prev_timestamp']).dt.total_seconds() / 3600.0\n",
    ")\n",
    "regression_df['hours_since_prev_reading'].fillna(0.0, inplace=True)\n",
    "\n",
    "regression_df['last_fault_ts'] = regression_df['timestamp'].where(regression_df['is_fault'])\n",
    "regression_df['last_fault_ts'] = (\n",
    "    regression_df.groupby('bulb_number')['last_fault_ts']\n",
    "    .transform(lambda s: s.ffill())\n",
    ")\n",
    "regression_df['hours_since_last_fault'] = (\n",
    "    (regression_df['timestamp'] - regression_df['last_fault_ts']).dt.total_seconds() / 3600.0\n",
    ")\n",
    "regression_df['hours_since_last_fault'] = regression_df['hours_since_last_fault'].fillna(\n",
    "    regression_df['hours_since_prev_reading']\n",
    ")\n",
    "\n",
    "regression_df['failure_interval_hours'] = (\n",
    "    (regression_df['next_fault_ts'] - regression_df['last_fault_ts']).dt.total_seconds() / 3600.0\n",
    ")\n",
    "regression_df['failure_interval_hours'] = regression_df['failure_interval_hours'].fillna(\n",
    "    regression_df['target_remaining_time'] + regression_df['hours_since_last_fault']\n",
    ")\n",
    "\n",
    "regression_df = regression_df[\n",
    "    regression_df['target_remaining_time'].notna()\n",
    "    & (regression_df['target_remaining_time'] > 0)\n",
    "].copy()\n",
    "\n",
    "regression_df.drop(\n",
    "    columns=['failure_timestamp', 'is_fault', 'next_fault_ts', 'prev_timestamp', 'last_fault_ts'],\n",
    "    inplace=True\n",
    ")\n",
    "regression_df.head()\n"
   ]
  },
  {
   "cell_type": "code",
   "execution_count": 167,
   "id": "3cb5b30c",
   "metadata": {},
   "outputs": [
    {
     "name": "stderr",
     "output_type": "stream",
     "text": [
      "/var/folders/gq/w_g3zyld0gqdj67phd2tkjhw0000gn/T/ipykernel_53333/1470904948.py:14: FutureWarning: A value is trying to be set on a copy of a DataFrame or Series through chained assignment using an inplace method.\n",
      "The behavior will change in pandas 3.0. This inplace method will never work because the intermediate object on which we are setting values always behaves as a copy.\n",
      "\n",
      "For example, when doing 'df[col].method(value, inplace=True)', try using 'df.method({col: value}, inplace=True)' or df[col] = df[col].method(value) instead, to perform the operation inplace on the original object.\n",
      "\n",
      "\n",
      "  regression_df[std_col].fillna(0.0, inplace=True)\n",
      "/var/folders/gq/w_g3zyld0gqdj67phd2tkjhw0000gn/T/ipykernel_53333/1470904948.py:14: FutureWarning: A value is trying to be set on a copy of a DataFrame or Series through chained assignment using an inplace method.\n",
      "The behavior will change in pandas 3.0. This inplace method will never work because the intermediate object on which we are setting values always behaves as a copy.\n",
      "\n",
      "For example, when doing 'df[col].method(value, inplace=True)', try using 'df.method({col: value}, inplace=True)' or df[col] = df[col].method(value) instead, to perform the operation inplace on the original object.\n",
      "\n",
      "\n",
      "  regression_df[std_col].fillna(0.0, inplace=True)\n",
      "/var/folders/gq/w_g3zyld0gqdj67phd2tkjhw0000gn/T/ipykernel_53333/1470904948.py:14: FutureWarning: A value is trying to be set on a copy of a DataFrame or Series through chained assignment using an inplace method.\n",
      "The behavior will change in pandas 3.0. This inplace method will never work because the intermediate object on which we are setting values always behaves as a copy.\n",
      "\n",
      "For example, when doing 'df[col].method(value, inplace=True)', try using 'df.method({col: value}, inplace=True)' or df[col] = df[col].method(value) instead, to perform the operation inplace on the original object.\n",
      "\n",
      "\n",
      "  regression_df[std_col].fillna(0.0, inplace=True)\n",
      "/var/folders/gq/w_g3zyld0gqdj67phd2tkjhw0000gn/T/ipykernel_53333/1470904948.py:14: FutureWarning: A value is trying to be set on a copy of a DataFrame or Series through chained assignment using an inplace method.\n",
      "The behavior will change in pandas 3.0. This inplace method will never work because the intermediate object on which we are setting values always behaves as a copy.\n",
      "\n",
      "For example, when doing 'df[col].method(value, inplace=True)', try using 'df.method({col: value}, inplace=True)' or df[col] = df[col].method(value) instead, to perform the operation inplace on the original object.\n",
      "\n",
      "\n",
      "  regression_df[std_col].fillna(0.0, inplace=True)\n",
      "/var/folders/gq/w_g3zyld0gqdj67phd2tkjhw0000gn/T/ipykernel_53333/1470904948.py:14: FutureWarning: A value is trying to be set on a copy of a DataFrame or Series through chained assignment using an inplace method.\n",
      "The behavior will change in pandas 3.0. This inplace method will never work because the intermediate object on which we are setting values always behaves as a copy.\n",
      "\n",
      "For example, when doing 'df[col].method(value, inplace=True)', try using 'df.method({col: value}, inplace=True)' or df[col] = df[col].method(value) instead, to perform the operation inplace on the original object.\n",
      "\n",
      "\n",
      "  regression_df[std_col].fillna(0.0, inplace=True)\n"
     ]
    },
    {
     "data": {
      "text/plain": [
       "['power_consumption (Watts)',\n",
       " 'voltage_levels (Volts)',\n",
       " 'current_fluctuations (Amperes)',\n",
       " 'temperature (Celsius)',\n",
       " 'current_fluctuations_env (Amperes)',\n",
       " 'hours_since_prev_reading',\n",
       " 'hours_since_last_fault',\n",
       " 'failure_interval_hours',\n",
       " 'power_consumption (Watts)_rolling_mean_3',\n",
       " 'power_consumption (Watts)_rolling_std_3',\n",
       " 'voltage_levels (Volts)_rolling_mean_3',\n",
       " 'voltage_levels (Volts)_rolling_std_3',\n",
       " 'current_fluctuations (Amperes)_rolling_mean_3',\n",
       " 'current_fluctuations (Amperes)_rolling_std_3',\n",
       " 'temperature (Celsius)_rolling_mean_3',\n",
       " 'temperature (Celsius)_rolling_std_3',\n",
       " 'current_fluctuations_env (Amperes)_rolling_mean_3',\n",
       " 'current_fluctuations_env (Amperes)_rolling_std_3',\n",
       " 'environmental_conditions_Cloudy',\n",
       " 'environmental_conditions_Rainy']"
      ]
     },
     "execution_count": 167,
     "metadata": {},
     "output_type": "execute_result"
    }
   ],
   "source": [
    "# Feature engineering with rolling statistics and categorical encodings\n",
    "window = 3\n",
    "for col in numeric_cols:\n",
    "    mean_col = f'{col}_rolling_mean_{window}'\n",
    "    std_col = f'{col}_rolling_std_{window}'\n",
    "    regression_df[mean_col] = (\n",
    "        regression_df.groupby('bulb_number')[col]\n",
    "        .transform(lambda s: s.rolling(window=window, min_periods=1).mean())\n",
    "    )\n",
    "    regression_df[std_col] = (\n",
    "        regression_df.groupby('bulb_number')[col]\n",
    "        .transform(lambda s: s.rolling(window=window, min_periods=1).std())\n",
    "    )\n",
    "    regression_df[std_col].fillna(0.0, inplace=True)\n",
    "\n",
    "regression_model_df = pd.get_dummies(\n",
    "    regression_df,\n",
    "    columns=['environmental_conditions'],\n",
    "    drop_first=True\n",
    ")\n",
    "\n",
    "datetime_cols = [\n",
    "    col for col in regression_model_df.columns\n",
    "    if is_datetime64_any_dtype(regression_model_df[col])\n",
    "]\n",
    "\n",
    "feature_cols_regression = [\n",
    "    col for col in regression_model_df.columns\n",
    "    if col not in ['target_remaining_time', 'timestamp', 'fault_type', 'bulb_number']\n",
    "    and col not in datetime_cols\n",
    "]\n",
    "\n",
    "bool_feature_cols = regression_model_df[feature_cols_regression].select_dtypes(include=['bool']).columns\n",
    "if len(bool_feature_cols) > 0:\n",
    "    regression_model_df[bool_feature_cols] = regression_model_df[bool_feature_cols].astype(int)\n",
    "\n",
    "feature_cols_regression\n"
   ]
  },
  {
   "cell_type": "code",
   "execution_count": 168,
   "id": "c8040c1f",
   "metadata": {},
   "outputs": [
    {
     "name": "stdout",
     "output_type": "stream",
     "text": [
      "RMSE: 3.40 hours\n",
      "MAE: 1.02 hours\n"
     ]
    }
   ],
   "source": [
    "# Train a regression model to predict remaining time until failure\n",
    "X_reg = regression_model_df[feature_cols_regression].astype(float)\n",
    "y_reg = regression_model_df['target_remaining_time']\n",
    "\n",
    "X_train_reg, X_test_reg, y_train_reg, y_test_reg = train_test_split(\n",
    "    X_reg, y_reg, test_size=0.2, random_state=42\n",
    ")\n",
    "\n",
    "rfr_model = RandomForestRegressor(\n",
    "    n_estimators=300,\n",
    "    random_state=42,\n",
    "    n_jobs=-1\n",
    ")\n",
    "rfr_model.fit(X_train_reg, y_train_reg)\n",
    "\n",
    "y_pred_reg = rfr_model.predict(X_test_reg)\n",
    "rmse = np.sqrt(mean_squared_error(y_test_reg, y_pred_reg))\n",
    "mae = mean_absolute_error(y_test_reg, y_pred_reg)\n",
    "\n",
    "print(f'RMSE: {rmse:.2f} hours')\n",
    "print(f'MAE: {mae:.2f} hours')\n",
    "\n",
    "rf_metrics = {\n",
    "    'name': 'RandomForestRegressor',\n",
    "    'model': rfr_model,\n",
    "    'rmse': rmse,\n",
    "    'mae': mae\n",
    "}\n"
   ]
  },
  {
   "cell_type": "code",
   "execution_count": 169,
   "id": "2110913d",
   "metadata": {},
   "outputs": [
    {
     "name": "stdout",
     "output_type": "stream",
     "text": [
      "HistGradientBoosting RMSE: 6.26 hours\n",
      "HistGradientBoosting MAE: 2.49 hours\n",
      "Cross-validated MAE (3-fold): 3.03 ± 0.30\n"
     ]
    }
   ],
   "source": [
    "# Alternative model: HistGradientBoostingRegressor for improved accuracy\n",
    "hgb_model = HistGradientBoostingRegressor(\n",
    "    learning_rate=0.05,\n",
    "    max_depth=8,\n",
    "    max_leaf_nodes=31,\n",
    "    min_samples_leaf=20,\n",
    "    random_state=42\n",
    ")\n",
    "hgb_model.fit(X_train_reg, y_train_reg)\n",
    "\n",
    "y_pred_hgb = hgb_model.predict(X_test_reg)\n",
    "rmse_hgb = np.sqrt(mean_squared_error(y_test_reg, y_pred_hgb))\n",
    "mae_hgb = mean_absolute_error(y_test_reg, y_pred_hgb)\n",
    "\n",
    "print(f'HistGradientBoosting RMSE: {rmse_hgb:.2f} hours')\n",
    "print(f'HistGradientBoosting MAE: {mae_hgb:.2f} hours')\n",
    "\n",
    "cv_mae = -cross_val_score(\n",
    "    HistGradientBoostingRegressor(**hgb_model.get_params()),\n",
    "    X_reg,\n",
    "    y_reg,\n",
    "    cv=3,\n",
    "    scoring='neg_mean_absolute_error',\n",
    "    n_jobs=-1\n",
    ")\n",
    "print(f'Cross-validated MAE (3-fold): {cv_mae.mean():.2f} ± {cv_mae.std():.2f}')\n",
    "\n",
    "hgb_metrics = {\n",
    "    'name': 'HistGradientBoostingRegressor',\n",
    "    'model': hgb_model,\n",
    "    'rmse': rmse_hgb,\n",
    "    'mae': mae_hgb\n",
    "}\n"
   ]
  },
  {
   "cell_type": "code",
   "execution_count": 170,
   "id": "d5e89100",
   "metadata": {},
   "outputs": [
    {
     "name": "stdout",
     "output_type": "stream",
     "text": [
      "Best model selected: RandomForestRegressor (MAE=1.02 hours)\n"
     ]
    }
   ],
   "source": [
    "# Select the best-performing model based on MAE\n",
    "model_candidates = [rf_metrics, hgb_metrics]\n",
    "best_model_info = min(model_candidates, key=lambda item: item['mae'])\n",
    "best_model = best_model_info['model']\n",
    "print(f\"Best model selected: {best_model_info['name']} (MAE={best_model_info['mae']:.2f} hours)\")\n"
   ]
  },
  {
   "cell_type": "code",
   "execution_count": 185,
   "id": "a84f8ae6",
   "metadata": {},
   "outputs": [
    {
     "name": "stdout",
     "output_type": "stream",
     "text": [
      "Selected Bulb: 2\n",
      "Timestamp: 2023-12-30 03:07:50\n",
      "Predicted Remaining Time: 37.8 hours\n",
      "Actual Remaining Time: 37.5 hours\n"
     ]
    }
   ],
   "source": [
    "# Example prediction for the most recent reading of a single lamp\n",
    "latest_per_bulb = (\n",
    "    regression_model_df.sort_values(['bulb_number', 'timestamp'])\n",
    "    .groupby('bulb_number')\n",
    "    .tail(1)\n",
    ")\n",
    "\n",
    "example_row = latest_per_bulb.sample(1)\n",
    "example_features = example_row[feature_cols_regression]\n",
    "predicted_remaining = best_model.predict(example_features)[0]\n",
    "actual_remaining = example_row['target_remaining_time'].iloc[0]\n",
    "bulb_id = int(example_row['bulb_number'].iloc[0])\n",
    "timestamp_value = example_row['timestamp'].iloc[0]\n",
    "\n",
    "print(f'Selected Bulb: {bulb_id}')\n",
    "print(f'Timestamp: {timestamp_value}')\n",
    "print(f'Predicted Remaining Time: {predicted_remaining:.1f} hours')\n",
    "print(f'Actual Remaining Time: {actual_remaining:.1f} hours')\n"
   ]
  }
 ],
 "metadata": {
  "kaggle": {
   "accelerator": "none",
   "dataSources": [
    {
     "datasetId": 4559869,
     "sourceId": 7794056,
     "sourceType": "datasetVersion"
    }
   ],
   "dockerImageVersionId": 30664,
   "isGpuEnabled": false,
   "isInternetEnabled": true,
   "language": "python",
   "sourceType": "notebook"
  },
  "kernelspec": {
   "display_name": "Python 3 (ipykernel)",
   "language": "python",
   "name": "python3"
  },
  "language_info": {
   "codemirror_mode": {
    "name": "ipython",
    "version": 3
   },
   "file_extension": ".py",
   "mimetype": "text/x-python",
   "name": "python",
   "nbconvert_exporter": "python",
   "pygments_lexer": "ipython3",
   "version": "3.12.3"
  },
  "papermill": {
   "default_parameters": {},
   "duration": 16.911149,
   "end_time": "2024-03-09T16:36:36.653642",
   "environment_variables": {},
   "exception": null,
   "input_path": "__notebook__.ipynb",
   "output_path": "__notebook__.ipynb",
   "parameters": {},
   "start_time": "2024-03-09T16:36:19.742493",
   "version": "2.5.0"
  }
 },
 "nbformat": 4,
 "nbformat_minor": 5
}
